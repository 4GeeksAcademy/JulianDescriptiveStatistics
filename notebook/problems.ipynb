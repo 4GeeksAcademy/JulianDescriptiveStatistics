{
    "cells": [
        {
            "cell_type": "markdown",
            "id": "ac622319",
            "metadata": {},
            "source": [
                "# Descriptive statistics problems"
            ]
        },
        {
            "cell_type": "markdown",
            "id": "aa8993e4",
            "metadata": {},
            "source": [
                "### Exercise 1"
            ]
        },
        {
            "cell_type": "markdown",
            "id": "5e0ab0d5",
            "metadata": {},
            "source": [
                "We will use Numpy to obtain information to describe statistically.\n",
                "\n",
                "- Generate an array of 100 elements following a normal distribution.\n",
                "- Generate an array of 100 elements following a chi-square distribution with 3 degrees of freedom.\n",
                "- Calculate the main metrics and statistical measures that best describe the two vectors."
            ]
        },
        {
            "cell_type": "code",
            "execution_count": 17,
            "id": "34720ab6",
            "metadata": {},
            "outputs": [
                {
                    "name": "stdout",
                    "output_type": "stream",
                    "text": [
                        "Normal: [ 0.24826371  0.75634379 -0.82683319 -0.27584506 -2.67501251 -0.70747817\n",
                        "  1.24859619 -0.33684292  0.62607511 -0.65456471  1.81444458 -0.00741202\n",
                        "  1.80090386 -1.71873787  0.29943321  0.04168831 -1.97812408  0.95460815\n",
                        "  0.86266248  2.00975282 -0.70660801  0.82893345  1.90888743 -0.01107592\n",
                        " -1.07900952 -0.95549713  0.24889114  1.01565325 -1.24401083 -0.54895487\n",
                        "  0.31865361  2.78138465 -1.8379012  -0.30382161 -0.38568488 -1.55723248\n",
                        "  0.44164405  0.31942068 -0.65785336 -1.56512849  1.12065667  1.22988329\n",
                        " -0.32732549 -0.65135642  0.21314183 -1.11998028  0.11416044 -0.79858545\n",
                        "  0.47313908  0.53208316 -0.40787093 -0.52478959  0.57536892 -0.14755606\n",
                        " -0.1666214  -0.61045026 -2.04307588  0.45547968  0.0054132   0.26659188\n",
                        " -0.88876241  0.8438267  -0.69744706  0.46873075 -0.23270728 -1.07741124\n",
                        " -0.34384987 -0.06275045 -0.38341995  1.04276725 -0.502586    0.46610307\n",
                        " -1.46353678 -0.51680771 -1.99912213  0.54914469 -0.40754988 -0.12064705\n",
                        "  0.67884603 -0.50992037  0.18405772 -2.31648917  1.99207893 -0.36224383\n",
                        "  0.31125106 -2.02721785  0.35061953  0.69934695 -0.2777522   0.64671508\n",
                        " -0.25520696 -0.24473741 -1.45961883  0.5049694   0.0047009  -0.85409815\n",
                        "  0.13304193 -1.03883945  1.48816024 -1.48390554]\n",
                        "Chi-square vector: [ 1.95946739  4.94101512  3.96710478  4.41247036  3.4512273   0.65568115\n",
                        "  4.93886053  0.72197736  2.49605604  2.6993315   5.08523991  2.2505422\n",
                        "  3.18857422 14.32424626  0.10952732  3.40206873  1.6549638   0.66121747\n",
                        " 10.11693584  4.74179461  2.40984398  6.00859345  6.11354312  1.69976958\n",
                        "  2.80215726  2.92346589  3.69135408  2.90489589  1.73881338  1.04137488\n",
                        "  2.66455833  2.93292688  7.78538192  0.18166862  3.28235902  2.27250761\n",
                        "  0.13907961  1.73178802 10.61679387  1.18772049  4.60662734  4.43890039\n",
                        "  2.61031926  0.11369281  4.17040949  1.09178158  0.05519918  1.74682076\n",
                        "  1.54944006  2.61391234  3.53604578  1.37324665  4.91045688  7.85805908\n",
                        "  6.05930323  2.39759496  0.94806596  2.2820141   2.35423927  3.00611647\n",
                        "  3.86872257  4.20411555  0.23039878  0.68163751  5.25752312  2.15464725\n",
                        "  1.42440485  4.49896226  2.65140924  7.2404952   5.04253922  1.40334041\n",
                        "  4.27037909  5.42659485  2.03480446  1.28879168  1.75717215  3.28302661\n",
                        "  2.42920762  9.34154932  2.72578019  5.73632822  3.83112533  5.38667899\n",
                        "  0.58153384  0.82000551 13.30432716  3.96749986  2.25503756  8.01164429\n",
                        "  3.20191867  0.67514521  0.53141922  1.02809412  2.94588002  5.74954371\n",
                        "  7.06817688  4.78207914  5.66316957  9.52077917]\n",
                        "Means for normal: -0.12481349306803394\n",
                        "Means for Chi:3.539050318135661\n",
                        "Median for normal: -0.15708872923590372\n",
                        "Median for Chi: 2.914180889072294\n",
                        "Mode for normal: 0.24826371022104324\n",
                        "Mode for Chi: 1.9594673875761208\n",
                        "Range for normal: 5.456397152381644\n",
                        "Range for Chi: 14.269047082950868\n",
                        "Variance for Normal: 1.0496408953209793 and std: 1.0245198364702264\n",
                        "Variance for Chi: 7.629152694026587 and std: 2.762092086449434\n",
                        "Skewness for Normal: 0.0528262543000033\n",
                        "Skewness for Chi: 1.4827605650504219\n",
                        "Kurtosis for Normal: 0.16192416071458293\n",
                        "Kurtosis for Chi: 2.7564271970570706\n"
                    ]
                }
            ],
            "source": [
                "# TODO\n",
                "import numpy as np\n",
                "import statistics as stats\n",
                "from scipy.stats import skew\n",
                "from scipy.stats import kurtosis\n",
                "\n",
                "normal = np.random.normal(size = 100)\n",
                "chi = np.random.chisquare(3, 100)\n",
                "\n",
                "print(f\"Normal: {normal}\")\n",
                "print(f\"Chi-square vector: {chi}\")\n",
                "\n",
                "print (f'Means for normal: {stats.mean(normal)}')\n",
                "print (f'Means for Chi:{stats.mean(chi)}')\n",
                "\n",
                "print (f'Median for normal: {stats.median(normal)}')\n",
                "print (f'Median for Chi: {stats.median(chi)}')\n",
                "\n",
                "print (f'Mode for normal: {stats.mode(normal)}')\n",
                "print (f'Mode for Chi: {stats.mode(chi)}')\n",
                "\n",
                "range_normal= max(normal) - min(normal)\n",
                "range_chi = max(chi) - min(chi)\n",
                "\n",
                "print (f'Range for normal: {range_normal}')\n",
                "print(f'Range for Chi: {range_chi}')\n",
                "\n",
                "var_normal = stats.variance(normal)\n",
                "std_normal = stats.stdev(normal)\n",
                "var_chi = stats.variance(chi)\n",
                "std_chi = stats.stdev(chi)\n",
                "\n",
                "print(f\"Variance for Normal: {var_normal} and std: {std_normal}\")\n",
                "print(f\"Variance for Chi: {var_chi} and std: {std_chi}\")\n",
                "\n",
                "skew_normal = skew(normal)\n",
                "skew_chi = skew(chi)\n",
                "\n",
                "print(f\"Skewness for Normal: {skew_normal}\")\n",
                "print(f\"Skewness for Chi: {skew_chi}\")\n",
                "\n",
                "kurt_normal = kurtosis(normal)\n",
                "kurt_chi = kurtosis(chi)\n",
                "\n",
                "print(f\"Kurtosis for Normal: {kurt_normal}\")\n",
                "print(f\"Kurtosis for Chi: {kurt_chi}\")\n"
            ]
        },
        {
            "cell_type": "markdown",
            "id": "46c70c3d",
            "metadata": {},
            "source": [
                "### Exercise 2\n",
                "\n",
                "Write a Python program to calculate the standard deviation of the following data:\n",
                "\n",
                "```py\n",
                "data = [4, 2, 5, 8, 6]\n",
                "```"
            ]
        },
        {
            "cell_type": "code",
            "execution_count": 18,
            "id": "d590308e",
            "metadata": {},
            "outputs": [
                {
                    "name": "stdout",
                    "output_type": "stream",
                    "text": [
                        "Data: [4, 2, 5, 8, 6]\n",
                        "Standard Deviation: 2.23606797749979\n"
                    ]
                }
            ],
            "source": [
                "# TODO\n",
                "\n",
                "import statistics\n",
                "\n",
                "data = [4, 2, 5, 8, 6]\n",
                "\n",
                "deviation = statistics.stdev(data)\n",
                "\n",
                "print('Data:', data)\n",
                "print('Standard Deviation:', deviation)"
            ]
        }
    ],
    "metadata": {
        "interpreter": {
            "hash": "9248718ffe6ce6938b217e69dbcc175ea21f4c6b28a317e96c05334edae734bb"
        },
        "kernelspec": {
            "display_name": "Python 3.9.12 ('ML-BOOTCAMP')",
            "language": "python",
            "name": "python3"
        },
        "language_info": {
            "codemirror_mode": {
                "name": "ipython",
                "version": 3
            },
            "file_extension": ".py",
            "mimetype": "text/x-python",
            "name": "python",
            "nbconvert_exporter": "python",
            "pygments_lexer": "ipython3",
            "version": "3.11.4"
        }
    },
    "nbformat": 4,
    "nbformat_minor": 5
}
